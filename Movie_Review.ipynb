{
 "cells": [
  {
   "cell_type": "code",
   "execution_count": 4,
   "metadata": {},
   "outputs": [],
   "source": [
    "import requests\n",
    "import pandas as pd\n",
    "import numpy as np\n",
    "import matplotlib.pyplot as plt\n",
    "import re\n",
    "from nltk.corpus import stopwords\n",
    "from nltk.tokenize import word_tokenize\n",
    "from nltk.stem import WordNetLemmatizer\n",
    "from nltk.stem import PorterStemmer\n",
    "from tensorflow.keras.preprocessing.text import Tokenizer\n",
    "from tensorflow.keras.models import Sequential,Model\n",
    "from tensorflow.keras.layers import Dense, LSTM, Embedding,Dropout,SpatialDropout1D,Conv1D,MaxPooling1D,GRU,BatchNormalization\n",
    "from tensorflow.keras.layers import Input,Bidirectional,GlobalAveragePooling1D,GlobalMaxPooling1D,concatenate,LeakyReLU\n",
    "from tensorflow.keras import regularizers\n",
    "from tensorflow.keras import backend as K\n",
    "import keras\n",
    "import tensorflow as tf"
   ]
  },
  {
   "cell_type": "code",
   "execution_count": 5,
   "metadata": {},
   "outputs": [
    {
     "data": {
      "text/plain": [
       "[PhysicalDevice(name='/physical_device:CPU:0', device_type='CPU')]"
      ]
     },
     "execution_count": 5,
     "metadata": {},
     "output_type": "execute_result"
    }
   ],
   "source": [
    "tf.config.list_physical_devices()"
   ]
  },
  {
   "cell_type": "code",
   "execution_count": 6,
   "metadata": {},
   "outputs": [],
   "source": [
    "gpu_devices = tf.config.experimental.list_physical_devices('GPU')\n",
    "for device in gpu_devices: tf.config.experimental.set_memory_growth(device, True)"
   ]
  },
  {
   "cell_type": "code",
   "execution_count": 7,
   "metadata": {},
   "outputs": [
    {
     "data": {
      "text/plain": [
       "[{'id': 28, 'name': 'Action'},\n",
       " {'id': 12, 'name': 'Adventure'},\n",
       " {'id': 16, 'name': 'Animation'},\n",
       " {'id': 35, 'name': 'Comedy'},\n",
       " {'id': 80, 'name': 'Crime'},\n",
       " {'id': 99, 'name': 'Documentary'},\n",
       " {'id': 18, 'name': 'Drama'},\n",
       " {'id': 10751, 'name': 'Family'},\n",
       " {'id': 14, 'name': 'Fantasy'},\n",
       " {'id': 36, 'name': 'History'},\n",
       " {'id': 27, 'name': 'Horror'},\n",
       " {'id': 10402, 'name': 'Music'},\n",
       " {'id': 9648, 'name': 'Mystery'},\n",
       " {'id': 10749, 'name': 'Romance'},\n",
       " {'id': 878, 'name': 'Science Fiction'},\n",
       " {'id': 10770, 'name': 'TV Movie'},\n",
       " {'id': 53, 'name': 'Thriller'},\n",
       " {'id': 10752, 'name': 'War'},\n",
       " {'id': 37, 'name': 'Western'}]"
      ]
     },
     "execution_count": 7,
     "metadata": {},
     "output_type": "execute_result"
    }
   ],
   "source": [
    "genre_response = requests.get(\"https://api.themoviedb.org/3/genre/movie/list?api_key=50298e4210ad98f9daba9b5d76b15889&language=en-US\")\n",
    "all_genres = genre_response.json()[\"genres\"]\n",
    "# for i,v in enumerate(all_genres):\n",
    "#     v[\"id\"] = i\n",
    "\n",
    "all_genres"
   ]
  },
  {
   "cell_type": "code",
   "execution_count": 8,
   "metadata": {},
   "outputs": [
    {
     "data": {
      "text/plain": [
       "[{'id': 28, 'name': 'Action'},\n",
       " {'id': 99, 'name': 'Documentary'},\n",
       " {'id': 27, 'name': 'Horror'},\n",
       " {'id': 878, 'name': 'Science Fiction'}]"
      ]
     },
     "execution_count": 8,
     "metadata": {},
     "output_type": "execute_result"
    }
   ],
   "source": [
    "#all_genres[all_genres[\"id\"]==\"28\"]\n",
    "#type(all_genres)\n",
    "all_genres = [i for i in all_genres if i['id'] in [28, 99, 27, 878]]\n",
    "#all_genres.remove(\n",
    "all_genres"
   ]
  },
  {
   "cell_type": "code",
   "execution_count": 9,
   "metadata": {},
   "outputs": [],
   "source": [
    "def build_url(params, pages=1):\n",
    "    url = \"https://api.themoviedb.org/3/discover/movie?api_key=50298e4210ad98f9daba9b5d76b15889&language=en-US&sort_by=popularity.desc&include_adult=false&include_video=false&with_watch_monetization_types=flatrate\"\n",
    "    url += f\"&with_genres={params}&page={pages}\"\n",
    "    return url"
   ]
  },
  {
   "cell_type": "code",
   "execution_count": 10,
   "metadata": {},
   "outputs": [],
   "source": [
    "def get_movie_data(genre, pages):\n",
    "    response = requests.get(build_url(genre, pages))\n",
    "    return response.json()\n"
   ]
  },
  {
   "cell_type": "code",
   "execution_count": 11,
   "metadata": {},
   "outputs": [],
   "source": [
    "# data = get_movie_data(28,pages)"
   ]
  },
  {
   "cell_type": "code",
   "execution_count": 12,
   "metadata": {},
   "outputs": [],
   "source": [
    "movies_data = pd.DataFrame(columns=[\"movie_name\", \"plot\", \"genre\"])"
   ]
  },
  {
   "cell_type": "code",
   "execution_count": 13,
   "metadata": {},
   "outputs": [],
   "source": [
    "def load_movies_data(genre, pages):\n",
    "    data = pd.DataFrame(columns=[\"movie_name\", \"plot\", \"genre\"])\n",
    "    for i in get_movie_data(genre, pages)[\"results\"]:\n",
    "        # print({\"movie_name\" : i[\"original_title\"], \"plot\": i[\"overview\"], \"genre\": i[\"genre_ids\"]})\n",
    "        data =  pd.concat([data, pd.DataFrame.from_records([{\"movie_name\" : i[\"original_title\"], \"plot\": i[\"overview\"], \"genre\": i[\"genre_ids\"], \"primary_genre\": genre}])])\n",
    "    return data"
   ]
  },
  {
   "cell_type": "code",
   "execution_count": 14,
   "metadata": {},
   "outputs": [],
   "source": [
    "DATA_LIMIT = 2000"
   ]
  },
  {
   "cell_type": "code",
   "execution_count": 15,
   "metadata": {},
   "outputs": [],
   "source": [
    "num_of_genres = 0\n",
    "for i in all_genres:\n",
    "    num_of_genres+=1\n",
    "    pages =1\n",
    "    while(movies_data.shape[0] < (DATA_LIMIT * num_of_genres)):\n",
    "        movies_data = pd.concat([movies_data, load_movies_data(i['id'], pages)])\n",
    "        pages += 1"
   ]
  },
  {
   "cell_type": "code",
   "execution_count": 16,
   "metadata": {},
   "outputs": [
    {
     "data": {
      "text/plain": [
       "(8000, 4)"
      ]
     },
     "execution_count": 16,
     "metadata": {},
     "output_type": "execute_result"
    }
   ],
   "source": [
    "movies_data.shape"
   ]
  },
  {
   "cell_type": "code",
   "execution_count": 17,
   "metadata": {},
   "outputs": [],
   "source": [
    "stop_words = stopwords.words('english')\n",
    "stop_words.extend([\"br\"]) # Added the line break tag br to the stop words as it is not necessary\n",
    "stop_words = set(stop_words)\n",
    "\n",
    "lemmatizer = WordNetLemmatizer()\n",
    "stemmer = PorterStemmer()\n",
    "\n",
    "def lemmatize(word):\n",
    "    return lemmatizer.lemmatize(word)\n",
    "\n",
    "def clean_text(text):\n",
    "    text = text.lower().split()\n",
    "    \n",
    "    stops = stop_words\n",
    "    text = [w for w in text if not w in stops and len(w) >= 3]\n",
    "    text = \" \".join(text)\n",
    "    \n",
    "    text = re. sub(r'https?://[A-Za-z0-9./]+', 'url', text)\n",
    "    text = re. sub(r\"[^A-Za-z0-g^,!.V'+-=]\",\" \", text)\n",
    "    text = re.sub(r\"what's\", \"what is\", text)\n",
    "    text = re.sub(r\"\\'s\", \" \", text)\n",
    "    text = re. sub(r\"\\'ve\", \"have\", text)\n",
    "    text = re.sub(r\"n't\", \"not\", text)\n",
    "    text = re.sub(r\"i'm\", \"i am\", text)\n",
    "    text = re. sub(r\"\\'re\", \"are\", text)\n",
    "    text = re.sub(r\"\\'d\", \"would\", text)\n",
    "    text = re.sub(r\"\\'ll\", \"will\", text)\n",
    "    text = re.sub(r\",\", \" \",text)\n",
    "    text = re.sub(r\"\\.\", \" \",text)\n",
    "    text = re.sub(r\"!\", \" ! \", text)\n",
    "    text = re.sub(r\"\\/\", \" \", text)\n",
    "    text = re. sub(r\"\\^\", \" ^ \", text)\n",
    "    text = re.sub(r\"\\+\", \" + \" , text)\n",
    "    text = re.sub(r\"\\-\", \" - \" , text)\n",
    "    text = re.sub(r\"\\=\", \" = \" , text)\n",
    "    text = re. sub(r\"'\", \" \" , text)\n",
    "    text = re.sub(r\"(\\d+)(k)\", r\"\\g<1>000\", text)\n",
    "    text = re. sub(r\":\", \" : \", text)\n",
    "    text = re. sub(r\" e g \", \" eg \", text)\n",
    "    text = re. sub(r\" b g \", \" bg \", text)\n",
    "    text = re. sub(r\"j k\", \" jk \", text)\n",
    "    text = re. sub(r\" u s \", \" american \", text)\n",
    "    text = re. sub(r\"\\0s\", \"0\", text)\n",
    "    text = re. sub(r\" 9 11 \", \"911\", text)\n",
    "    text = re.sub(r\"e - mail\", \"email\", text)\n",
    "    text = re.sub(r\"\\s{2,}\", \" \", text)\n",
    "    text = re.sub(r'@[A-Za-z0-9]+', '', text)\n",
    "    text = re. sub(r'(\\w)\\1{2,}', r'\\1\\1', text)\n",
    "    text = re.sub(r'\\w(\\w)\\1{2}','', text)\n",
    "    pattern = re.compile(r\"(.)\\1{2,}\")\n",
    "    text = pattern.sub(r\"\\1\\1\", text)\n",
    "    stemmer.stem(text)\n",
    "    return lemmatize(text)\n",
    "\n",
    "def del_NonAlphawords(sentence):\n",
    "    return \" \".join([word for word in sentence.split() if word.isalpha()])"
   ]
  },
  {
   "cell_type": "code",
   "execution_count": 18,
   "metadata": {},
   "outputs": [],
   "source": [
    "clean_all = lambda x : del_NonAlphawords(clean_text(x))"
   ]
  },
  {
   "cell_type": "code",
   "execution_count": 19,
   "metadata": {},
   "outputs": [],
   "source": [
    "movies_data[\"plot\"] = movies_data[\"plot\"].apply(clean_all)"
   ]
  },
  {
   "cell_type": "code",
   "execution_count": 20,
   "metadata": {},
   "outputs": [
    {
     "data": {
      "text/plain": [
       "<AxesSubplot:>"
      ]
     },
     "execution_count": 20,
     "metadata": {},
     "output_type": "execute_result"
    },
    {
     "data": {
      "image/png": "[encoded data removed]",
      "text/plain": [
       "<Figure size 432x288 with 1 Axes>"
      ]
     },
     "metadata": {
      "needs_background": "light"
     },
     "output_type": "display_data"
    }
   ],
   "source": [
    "movies_data.primary_genre.value_counts().sort_values().plot(kind = 'bar')"
   ]
  },
  {
   "cell_type": "code",
   "execution_count": 21,
   "metadata": {},
   "outputs": [],
   "source": [
    "# movies_data = movies_data.explode(\"genre\")"
   ]
  },
  {
   "cell_type": "code",
   "execution_count": 22,
   "metadata": {},
   "outputs": [],
   "source": [
    "# movies_data.genre.value_counts().sort_values().plot(kind = 'bar')"
   ]
  },
  {
   "cell_type": "code",
   "execution_count": 23,
   "metadata": {},
   "outputs": [
    {
     "data": {
      "image/png": "[encoded data removed]",
      "text/plain": [
       "<Figure size 432x288 with 1 Axes>"
      ]
     },
     "metadata": {
      "needs_background": "light"
     },
     "output_type": "display_data"
    }
   ],
   "source": [
    "from wordcloud import WordCloud\n",
    "\n",
    "import matplotlib.pyplot as plt\n",
    "\n",
    "\n",
    "\n",
    "wordcloud = WordCloud().generate(str(movies_data[\"plot\"]))\n",
    "\n",
    "plt.figure()\n",
    "plt.imshow(wordcloud)\n",
    "\n",
    "plt.axis(\"off\")\n",
    "\n",
    "plt.show()"
   ]
  },
  {
   "cell_type": "code",
   "execution_count": 24,
   "metadata": {},
   "outputs": [],
   "source": [
    "tokenizer = Tokenizer(num_words=100000)\n",
    "tokenizer.fit_on_texts(movies_data[\"plot\"])\n",
    "word_index = tokenizer.word_index"
   ]
  },
  {
   "cell_type": "code",
   "execution_count": 25,
   "metadata": {},
   "outputs": [
    {
     "name": "stdout",
     "output_type": "stream",
     "text": [
      "Found 1917494 word vectors.\n"
     ]
    }
   ],
   "source": [
    "path_to_glove_file = os.path.join(\"glove.42B.300d.txt\")\n",
    "\n",
    "embeddings_index = {}\n",
    "with open(path_to_glove_file) as f:\n",
    "    for line in f:\n",
    "        word, coefs = line.split(maxsplit=1)\n",
    "        coefs = np.fromstring(coefs, \"f\", sep=\" \")\n",
    "        embeddings_index[word] = coefs\n",
    "\n",
    "print(\"Found %s word vectors.\" % len(embeddings_index))"
   ]
  },
  {
   "cell_type": "code",
   "execution_count": 26,
   "metadata": {},
   "outputs": [
    {
     "name": "stdout",
     "output_type": "stream",
     "text": [
      "Converted 23496 words (581 misses)\n"
     ]
    }
   ],
   "source": [
    "num_tokens = len(word_index) + 2\n",
    "embedding_dim = 300\n",
    "hits = 0\n",
    "misses = 0\n",
    "\n",
    "# Prepare embedding matrix\n",
    "embedding_matrix = np.zeros((num_tokens, embedding_dim))\n",
    "for word, i in word_index.items():\n",
    "    embedding_vector = embeddings_index.get(word)\n",
    "    if embedding_vector is not None:\n",
    "        # Words not found in embedding index will be all-zeros.\n",
    "        # This includes the representation for \"padding\" and \"OOV\"\n",
    "        embedding_matrix[i] = embedding_vector\n",
    "        hits += 1\n",
    "    else:\n",
    "        misses += 1\n",
    "print(\"Converted %d words (%d misses)\" % (hits, misses))"
   ]
  },
  {
   "cell_type": "code",
   "execution_count": 27,
   "metadata": {},
   "outputs": [],
   "source": [
    "MAX_SEQUENCE_LENGTH = 10000\n",
    "filters=32\n",
    "kernel_size= 32\n",
    "lstm_units = 100\n"
   ]
  },
  {
   "cell_type": "code",
   "execution_count": 28,
   "metadata": {},
   "outputs": [
    {
     "name": "stderr",
     "output_type": "stream",
     "text": [
      "2022-04-18 22:37:27.869849: I tensorflow/core/platform/cpu_feature_guard.cc:151] This TensorFlow binary is optimized with oneAPI Deep Neural Network Library (oneDNN) to use the following CPU instructions in performance-critical operations:  AVX2 FMA\n",
      "To enable them in other operations, rebuild TensorFlow with the appropriate compiler flags.\n"
     ]
    }
   ],
   "source": [
    "# with tf.device('/cpu:0'):\n",
    "model = Sequential()\n",
    "# model.add(Input(25960, 1000))\n",
    "model.add(Embedding(input_dim=embedding_matrix.shape[0], output_dim=embedding_matrix.shape[1], weights=[embedding_matrix], input_length=MAX_SEQUENCE_LENGTH, trainable=False))\n",
    "# model.add(Embedding( num_tokens,\n",
    "#     embedding_dim,\n",
    "#     embeddings_initializer=keras.initializers.Constant(embedding_matrix),\n",
    "#     trainable=False))\n",
    "model.add(SpatialDropout1D(0.5))\n",
    "model.add(Conv1D(filters, kernel_size=kernel_size,kernel_regularizer=regularizers.l2(0.00001), padding='same'))\n",
    "model.add(LeakyReLU(alpha=0.2))\n",
    "model.add(MaxPooling1D(pool_size=2))\n",
    "model.add(Bidirectional(LSTM(lstm_units,dropout=0.5, recurrent_dropout=0.5,return_sequences=True)))\n",
    "model.add(SpatialDropout1D(0.5))\n",
    "model.add(Conv1D(filters, kernel_size=kernel_size,kernel_regularizer=regularizers.l2(0.00001), padding='same'))\n",
    "model.add(LeakyReLU(alpha=0.2))\n",
    "model.add(MaxPooling1D(pool_size=2))\n",
    "# model.add(Bidirectional(LSTM(lstm_units,dropout=0.5, recurrent_dropout=0.5,return_sequences=True)))\n",
    "# model.add(SpatialDropout1D(0.5))\n",
    "# model.add(Conv1D(filters, kernel_size=kernel_size,kernel_regularizer=regularizers.l2(0.00001), padding='same'))\n",
    "# model.add(LeakyReLU(alpha=0.2))\n",
    "# model.add(MaxPooling1D(pool_size=2))\n",
    "model.add(Bidirectional(LSTM(lstm_units,dropout=0.5, recurrent_dropout=0.5)))\n",
    "model.add(Dense(np.unique(movies_data[\"primary_genre\"]).shape[0],activation='softmax'))\n",
    "model.compile(optimizer='adam',loss='categorical_crossentropy', metrics=['categorical_accuracy'])"
   ]
  },
  {
   "cell_type": "code",
   "execution_count": null,
   "metadata": {},
   "outputs": [],
   "source": []
  },
  {
   "cell_type": "code",
   "execution_count": 29,
   "metadata": {},
   "outputs": [
    {
     "data": {
      "text/plain": [
       "array([ 27.,  28.,  99., 878.])"
      ]
     },
     "execution_count": 29,
     "metadata": {},
     "output_type": "execute_result"
    }
   ],
   "source": [
    "classes = np.unique(movies_data[\"primary_genre\"])\n",
    "classes"
   ]
  },
  {
   "cell_type": "code",
   "execution_count": 30,
   "metadata": {},
   "outputs": [],
   "source": [
    "from sklearn.model_selection import train_test_split\n",
    "from keras.utils.np_utils import to_categorical\n",
    "from sklearn.preprocessing import LabelBinarizer, LabelEncoder\n",
    "# from keras.utils import np_utils\n",
    "from keras.preprocessing.sequence import pad_sequences\n",
    "import os\n",
    "from tensorflow.keras.callbacks import TensorBoard\n",
    "\n",
    "\n",
    "\n",
    "encoder = LabelEncoder()\n",
    "encoder.fit(movies_data[\"primary_genre\"])\n",
    "y_data = encoder.transform(movies_data[\"primary_genre\"])\n",
    "\n",
    "categorical_labels = to_categorical(y_data,num_classes=len(classes))\n",
    "X_train, X_test, Y_train, Y_test = train_test_split(movies_data[\"plot\"], categorical_labels, test_size=0.2)"
   ]
  },
  {
   "cell_type": "code",
   "execution_count": 31,
   "metadata": {},
   "outputs": [],
   "source": [
    "pad_X_train = pad_sequences(\n",
    "   tokenizer.texts_to_sequences(X_train), maxlen = MAX_SEQUENCE_LENGTH\n",
    " )\n",
    "pad_X_test =  pad_sequences(\n",
    "     tokenizer.texts_to_sequences(X_test), maxlen = MAX_SEQUENCE_LENGTH\n",
    "   )"
   ]
  },
  {
   "cell_type": "code",
   "execution_count": 32,
   "metadata": {},
   "outputs": [
    {
     "name": "stdout",
     "output_type": "stream",
     "text": [
      "Epoch 1/200\n",
      "200/200 [==============================] - 2722s 14s/step - loss: 1.0192 - categorical_accuracy: 0.5491\n",
      "Epoch 2/200\n",
      "200/200 [==============================] - 2451s 12s/step - loss: 0.8861 - categorical_accuracy: 0.6359\n",
      "Epoch 3/200\n",
      "200/200 [==============================] - 2400s 12s/step - loss: 0.8565 - categorical_accuracy: 0.6475\n",
      "Epoch 4/200\n",
      "200/200 [==============================] - 2424s 12s/step - loss: 0.8228 - categorical_accuracy: 0.6647\n",
      "Epoch 5/200\n",
      "200/200 [==============================] - 2441s 12s/step - loss: 0.8088 - categorical_accuracy: 0.6733\n",
      "Epoch 6/200\n",
      "200/200 [==============================] - 2404s 12s/step - loss: 0.7865 - categorical_accuracy: 0.6839\n",
      "Epoch 7/200\n",
      "200/200 [==============================] - 2383s 12s/step - loss: 0.7825 - categorical_accuracy: 0.6812\n",
      "Epoch 8/200\n",
      "200/200 [==============================] - 2366s 12s/step - loss: 0.7641 - categorical_accuracy: 0.6870\n",
      "Epoch 9/200\n",
      "200/200 [==============================] - 2359s 12s/step - loss: 0.7628 - categorical_accuracy: 0.6864\n",
      "Epoch 10/200\n",
      "200/200 [==============================] - 2365s 12s/step - loss: 0.7687 - categorical_accuracy: 0.6827\n",
      "Epoch 11/200\n",
      "200/200 [==============================] - 2358s 12s/step - loss: 0.7260 - categorical_accuracy: 0.7003\n",
      "Epoch 12/200\n",
      "200/200 [==============================] - 2372s 12s/step - loss: 0.7308 - categorical_accuracy: 0.7044\n",
      "Epoch 13/200\n",
      "200/200 [==============================] - 2413s 12s/step - loss: 0.7135 - categorical_accuracy: 0.7059\n",
      "Epoch 14/200\n",
      "200/200 [==============================] - 2442s 12s/step - loss: 0.6938 - categorical_accuracy: 0.7125\n",
      "Epoch 15/200\n",
      "200/200 [==============================] - 2464s 12s/step - loss: 0.6835 - categorical_accuracy: 0.7194\n",
      "Epoch 16/200\n",
      "200/200 [==============================] - 2489s 12s/step - loss: 0.6793 - categorical_accuracy: 0.7203\n",
      "Epoch 17/200\n",
      "200/200 [==============================] - 2460s 12s/step - loss: 0.6714 - categorical_accuracy: 0.7259\n",
      "Epoch 18/200\n",
      "200/200 [==============================] - 2437s 12s/step - loss: 0.6683 - categorical_accuracy: 0.7289\n",
      "Epoch 19/200\n",
      "200/200 [==============================] - 2434s 12s/step - loss: 0.6568 - categorical_accuracy: 0.7308\n",
      "Epoch 20/200\n",
      "200/200 [==============================] - 2494s 12s/step - loss: 0.6299 - categorical_accuracy: 0.7452\n",
      "Epoch 21/200\n",
      "200/200 [==============================] - 2718s 14s/step - loss: 0.6324 - categorical_accuracy: 0.7439\n",
      "Epoch 22/200\n",
      "200/200 [==============================] - 2392s 12s/step - loss: 0.6228 - categorical_accuracy: 0.7441\n",
      "Epoch 23/200\n",
      "200/200 [==============================] - 2407s 12s/step - loss: 0.6078 - categorical_accuracy: 0.7509\n",
      "Epoch 24/200\n",
      "200/200 [==============================] - 2343s 12s/step - loss: 0.6055 - categorical_accuracy: 0.7564\n",
      "Epoch 25/200\n",
      "200/200 [==============================] - 2430s 12s/step - loss: 0.5847 - categorical_accuracy: 0.7673\n",
      "Epoch 26/200\n",
      "200/200 [==============================] - 2471s 12s/step - loss: 0.5901 - categorical_accuracy: 0.7605\n",
      "Epoch 27/200\n",
      "200/200 [==============================] - 2580s 13s/step - loss: 0.5825 - categorical_accuracy: 0.7623\n",
      "Epoch 28/200\n",
      "200/200 [==============================] - 2591s 13s/step - loss: 0.5659 - categorical_accuracy: 0.7727\n",
      "Epoch 29/200\n",
      "200/200 [==============================] - 2429s 12s/step - loss: 0.5689 - categorical_accuracy: 0.7656\n",
      "Epoch 30/200\n",
      "200/200 [==============================] - 2736s 14s/step - loss: 0.5545 - categorical_accuracy: 0.7738\n",
      "Epoch 31/200\n",
      "200/200 [==============================] - 2723s 14s/step - loss: 0.5514 - categorical_accuracy: 0.7789\n",
      "Epoch 32/200\n",
      "200/200 [==============================] - 2718s 14s/step - loss: 0.5572 - categorical_accuracy: 0.7713\n",
      "Epoch 33/200\n",
      "200/200 [==============================] - 2554s 13s/step - loss: 0.5384 - categorical_accuracy: 0.7809\n",
      "Epoch 34/200\n",
      "200/200 [==============================] - 2503s 13s/step - loss: 0.5368 - categorical_accuracy: 0.7822\n",
      "Epoch 35/200\n",
      "200/200 [==============================] - 2336s 12s/step - loss: 0.5528 - categorical_accuracy: 0.7827\n",
      "Epoch 36/200\n",
      "200/200 [==============================] - 2293s 11s/step - loss: 0.5233 - categorical_accuracy: 0.7883\n",
      "Epoch 37/200\n",
      "200/200 [==============================] - 2493s 12s/step - loss: 0.5276 - categorical_accuracy: 0.7861\n",
      "Epoch 38/200\n",
      "200/200 [==============================] - 2449s 12s/step - loss: 0.5145 - categorical_accuracy: 0.7970\n",
      "Epoch 39/200\n",
      "200/200 [==============================] - 2503s 13s/step - loss: 0.5082 - categorical_accuracy: 0.8009\n",
      "Epoch 40/200\n",
      "200/200 [==============================] - 2480s 12s/step - loss: 0.5043 - categorical_accuracy: 0.8003\n",
      "Epoch 41/200\n",
      "200/200 [==============================] - 2465s 12s/step - loss: 0.5159 - categorical_accuracy: 0.7934\n",
      "Epoch 42/200\n",
      "200/200 [==============================] - 2449s 12s/step - loss: 0.4934 - categorical_accuracy: 0.8050\n",
      "Epoch 43/200\n",
      "200/200 [==============================] - 2438s 12s/step - loss: 0.4983 - categorical_accuracy: 0.8086\n",
      "Epoch 44/200\n",
      "200/200 [==============================] - 2492s 12s/step - loss: 0.4810 - categorical_accuracy: 0.8084\n",
      "Epoch 45/200\n",
      "200/200 [==============================] - 2479s 12s/step - loss: 0.4963 - categorical_accuracy: 0.8089\n",
      "Epoch 46/200\n",
      "200/200 [==============================] - 2461s 12s/step - loss: 0.4861 - categorical_accuracy: 0.8108\n",
      "Epoch 47/200\n",
      "200/200 [==============================] - 2450s 12s/step - loss: 0.4874 - categorical_accuracy: 0.8111\n",
      "Epoch 48/200\n",
      "200/200 [==============================] - 2466s 12s/step - loss: 0.4775 - categorical_accuracy: 0.8164\n",
      "Epoch 49/200\n",
      "200/200 [==============================] - 2484s 12s/step - loss: 0.4663 - categorical_accuracy: 0.8164\n",
      "Epoch 50/200\n",
      "200/200 [==============================] - 2546s 13s/step - loss: 0.4829 - categorical_accuracy: 0.8089\n",
      "Epoch 51/200\n",
      "200/200 [==============================] - 7865s 39s/step - loss: 0.4837 - categorical_accuracy: 0.8112\n",
      "Epoch 52/200\n",
      "200/200 [==============================] - 2977s 15s/step - loss: 0.4730 - categorical_accuracy: 0.8161\n",
      "Epoch 53/200\n",
      "200/200 [==============================] - 2324s 12s/step - loss: 0.4577 - categorical_accuracy: 0.8244\n",
      "Epoch 54/200\n",
      "200/200 [==============================] - 2279s 11s/step - loss: 0.4670 - categorical_accuracy: 0.8167\n",
      "Epoch 55/200\n",
      "200/200 [==============================] - 2326s 12s/step - loss: 0.4625 - categorical_accuracy: 0.8191\n",
      "Epoch 56/200\n",
      "200/200 [==============================] - 2541s 13s/step - loss: 0.4507 - categorical_accuracy: 0.8266\n",
      "Epoch 57/200\n",
      "200/200 [==============================] - 2486s 12s/step - loss: 0.4697 - categorical_accuracy: 0.8175\n",
      "Epoch 58/200\n",
      "200/200 [==============================] - 2711s 14s/step - loss: 0.4631 - categorical_accuracy: 0.8236\n",
      "Epoch 59/200\n",
      "200/200 [==============================] - 2700s 13s/step - loss: 0.4640 - categorical_accuracy: 0.8217\n",
      "Epoch 60/200\n",
      "200/200 [==============================] - 2593s 13s/step - loss: 0.4593 - categorical_accuracy: 0.8206\n",
      "Epoch 61/200\n",
      "200/200 [==============================] - 2586s 13s/step - loss: 0.4387 - categorical_accuracy: 0.8320\n",
      "Epoch 62/200\n",
      "200/200 [==============================] - 2497s 12s/step - loss: 0.4566 - categorical_accuracy: 0.8256\n",
      "Epoch 63/200\n",
      "200/200 [==============================] - 2457s 12s/step - loss: 0.4410 - categorical_accuracy: 0.8341\n",
      "Epoch 64/200\n",
      "  8/200 [>.............................] - ETA: 37:07 - loss: 0.3709 - categorical_accuracy: 0.8711"
     ]
    },
    {
     "ename": "KeyboardInterrupt",
     "evalue": "",
     "output_type": "error",
     "traceback": [
      "\u001b[0;31m---------------------------------------------------------------------------\u001b[0m",
      "\u001b[0;31mKeyboardInterrupt\u001b[0m                         Traceback (most recent call last)",
      "\u001b[1;32m/Users/vigneshkkar/Documents/Vigneshkkar/AIML/Advanced Python Programming/project/Movie_Review.ipynb Cell 30'\u001b[0m in \u001b[0;36m<cell line: 4>\u001b[0;34m()\u001b[0m\n\u001b[1;32m      <a href='vscode-notebook-cell:/Users/vigneshkkar/Documents/Vigneshkkar/AIML/Advanced%20Python%20Programming/project/Movie_Review.ipynb#ch0000028?line=0'>1</a>\u001b[0m log_dir \u001b[39m=\u001b[39m os\u001b[39m.\u001b[39mpath\u001b[39m.\u001b[39mjoin(\u001b[39m'\u001b[39m\u001b[39mLogs\u001b[39m\u001b[39m'\u001b[39m)\n\u001b[1;32m      <a href='vscode-notebook-cell:/Users/vigneshkkar/Documents/Vigneshkkar/AIML/Advanced%20Python%20Programming/project/Movie_Review.ipynb#ch0000028?line=1'>2</a>\u001b[0m tb_callback \u001b[39m=\u001b[39m TensorBoard(log_dir\u001b[39m=\u001b[39mlog_dir)\n\u001b[0;32m----> <a href='vscode-notebook-cell:/Users/vigneshkkar/Documents/Vigneshkkar/AIML/Advanced%20Python%20Programming/project/Movie_Review.ipynb#ch0000028?line=3'>4</a>\u001b[0m model\u001b[39m.\u001b[39;49mfit(pad_X_train, Y_train, epochs\u001b[39m=\u001b[39;49m\u001b[39m200\u001b[39;49m, callbacks\u001b[39m=\u001b[39;49m[tb_callback])\n",
      "File \u001b[0;32m~/Documents/Vigneshkkar/AIML/Advanced Python Programming/project/.APP/lib/python3.8/site-packages/keras/utils/traceback_utils.py:64\u001b[0m, in \u001b[0;36mfilter_traceback.<locals>.error_handler\u001b[0;34m(*args, **kwargs)\u001b[0m\n\u001b[1;32m     <a href='file:///Users/vigneshkkar/Documents/Vigneshkkar/AIML/Advanced%20Python%20Programming/project/.APP/lib/python3.8/site-packages/keras/utils/traceback_utils.py?line=61'>62</a>\u001b[0m filtered_tb \u001b[39m=\u001b[39m \u001b[39mNone\u001b[39;00m\n\u001b[1;32m     <a href='file:///Users/vigneshkkar/Documents/Vigneshkkar/AIML/Advanced%20Python%20Programming/project/.APP/lib/python3.8/site-packages/keras/utils/traceback_utils.py?line=62'>63</a>\u001b[0m \u001b[39mtry\u001b[39;00m:\n\u001b[0;32m---> <a href='file:///Users/vigneshkkar/Documents/Vigneshkkar/AIML/Advanced%20Python%20Programming/project/.APP/lib/python3.8/site-packages/keras/utils/traceback_utils.py?line=63'>64</a>\u001b[0m   \u001b[39mreturn\u001b[39;00m fn(\u001b[39m*\u001b[39;49margs, \u001b[39m*\u001b[39;49m\u001b[39m*\u001b[39;49mkwargs)\n\u001b[1;32m     <a href='file:///Users/vigneshkkar/Documents/Vigneshkkar/AIML/Advanced%20Python%20Programming/project/.APP/lib/python3.8/site-packages/keras/utils/traceback_utils.py?line=64'>65</a>\u001b[0m \u001b[39mexcept\u001b[39;00m \u001b[39mException\u001b[39;00m \u001b[39mas\u001b[39;00m e:  \u001b[39m# pylint: disable=broad-except\u001b[39;00m\n\u001b[1;32m     <a href='file:///Users/vigneshkkar/Documents/Vigneshkkar/AIML/Advanced%20Python%20Programming/project/.APP/lib/python3.8/site-packages/keras/utils/traceback_utils.py?line=65'>66</a>\u001b[0m   filtered_tb \u001b[39m=\u001b[39m _process_traceback_frames(e\u001b[39m.\u001b[39m__traceback__)\n",
      "File \u001b[0;32m~/Documents/Vigneshkkar/AIML/Advanced Python Programming/project/.APP/lib/python3.8/site-packages/keras/engine/training.py:1384\u001b[0m, in \u001b[0;36mModel.fit\u001b[0;34m(self, x, y, batch_size, epochs, verbose, callbacks, validation_split, validation_data, shuffle, class_weight, sample_weight, initial_epoch, steps_per_epoch, validation_steps, validation_batch_size, validation_freq, max_queue_size, workers, use_multiprocessing)\u001b[0m\n\u001b[1;32m   <a href='file:///Users/vigneshkkar/Documents/Vigneshkkar/AIML/Advanced%20Python%20Programming/project/.APP/lib/python3.8/site-packages/keras/engine/training.py?line=1376'>1377</a>\u001b[0m \u001b[39mwith\u001b[39;00m tf\u001b[39m.\u001b[39mprofiler\u001b[39m.\u001b[39mexperimental\u001b[39m.\u001b[39mTrace(\n\u001b[1;32m   <a href='file:///Users/vigneshkkar/Documents/Vigneshkkar/AIML/Advanced%20Python%20Programming/project/.APP/lib/python3.8/site-packages/keras/engine/training.py?line=1377'>1378</a>\u001b[0m     \u001b[39m'\u001b[39m\u001b[39mtrain\u001b[39m\u001b[39m'\u001b[39m,\n\u001b[1;32m   <a href='file:///Users/vigneshkkar/Documents/Vigneshkkar/AIML/Advanced%20Python%20Programming/project/.APP/lib/python3.8/site-packages/keras/engine/training.py?line=1378'>1379</a>\u001b[0m     epoch_num\u001b[39m=\u001b[39mepoch,\n\u001b[1;32m   <a href='file:///Users/vigneshkkar/Documents/Vigneshkkar/AIML/Advanced%20Python%20Programming/project/.APP/lib/python3.8/site-packages/keras/engine/training.py?line=1379'>1380</a>\u001b[0m     step_num\u001b[39m=\u001b[39mstep,\n\u001b[1;32m   <a href='file:///Users/vigneshkkar/Documents/Vigneshkkar/AIML/Advanced%20Python%20Programming/project/.APP/lib/python3.8/site-packages/keras/engine/training.py?line=1380'>1381</a>\u001b[0m     batch_size\u001b[39m=\u001b[39mbatch_size,\n\u001b[1;32m   <a href='file:///Users/vigneshkkar/Documents/Vigneshkkar/AIML/Advanced%20Python%20Programming/project/.APP/lib/python3.8/site-packages/keras/engine/training.py?line=1381'>1382</a>\u001b[0m     _r\u001b[39m=\u001b[39m\u001b[39m1\u001b[39m):\n\u001b[1;32m   <a href='file:///Users/vigneshkkar/Documents/Vigneshkkar/AIML/Advanced%20Python%20Programming/project/.APP/lib/python3.8/site-packages/keras/engine/training.py?line=1382'>1383</a>\u001b[0m   callbacks\u001b[39m.\u001b[39mon_train_batch_begin(step)\n\u001b[0;32m-> <a href='file:///Users/vigneshkkar/Documents/Vigneshkkar/AIML/Advanced%20Python%20Programming/project/.APP/lib/python3.8/site-packages/keras/engine/training.py?line=1383'>1384</a>\u001b[0m   tmp_logs \u001b[39m=\u001b[39m \u001b[39mself\u001b[39;49m\u001b[39m.\u001b[39;49mtrain_function(iterator)\n\u001b[1;32m   <a href='file:///Users/vigneshkkar/Documents/Vigneshkkar/AIML/Advanced%20Python%20Programming/project/.APP/lib/python3.8/site-packages/keras/engine/training.py?line=1384'>1385</a>\u001b[0m   \u001b[39mif\u001b[39;00m data_handler\u001b[39m.\u001b[39mshould_sync:\n\u001b[1;32m   <a href='file:///Users/vigneshkkar/Documents/Vigneshkkar/AIML/Advanced%20Python%20Programming/project/.APP/lib/python3.8/site-packages/keras/engine/training.py?line=1385'>1386</a>\u001b[0m     context\u001b[39m.\u001b[39masync_wait()\n",
      "File \u001b[0;32m~/Documents/Vigneshkkar/AIML/Advanced Python Programming/project/.APP/lib/python3.8/site-packages/tensorflow/python/util/traceback_utils.py:150\u001b[0m, in \u001b[0;36mfilter_traceback.<locals>.error_handler\u001b[0;34m(*args, **kwargs)\u001b[0m\n\u001b[1;32m    <a href='file:///Users/vigneshkkar/Documents/Vigneshkkar/AIML/Advanced%20Python%20Programming/project/.APP/lib/python3.8/site-packages/tensorflow/python/util/traceback_utils.py?line=147'>148</a>\u001b[0m filtered_tb \u001b[39m=\u001b[39m \u001b[39mNone\u001b[39;00m\n\u001b[1;32m    <a href='file:///Users/vigneshkkar/Documents/Vigneshkkar/AIML/Advanced%20Python%20Programming/project/.APP/lib/python3.8/site-packages/tensorflow/python/util/traceback_utils.py?line=148'>149</a>\u001b[0m \u001b[39mtry\u001b[39;00m:\n\u001b[0;32m--> <a href='file:///Users/vigneshkkar/Documents/Vigneshkkar/AIML/Advanced%20Python%20Programming/project/.APP/lib/python3.8/site-packages/tensorflow/python/util/traceback_utils.py?line=149'>150</a>\u001b[0m   \u001b[39mreturn\u001b[39;00m fn(\u001b[39m*\u001b[39;49margs, \u001b[39m*\u001b[39;49m\u001b[39m*\u001b[39;49mkwargs)\n\u001b[1;32m    <a href='file:///Users/vigneshkkar/Documents/Vigneshkkar/AIML/Advanced%20Python%20Programming/project/.APP/lib/python3.8/site-packages/tensorflow/python/util/traceback_utils.py?line=150'>151</a>\u001b[0m \u001b[39mexcept\u001b[39;00m \u001b[39mException\u001b[39;00m \u001b[39mas\u001b[39;00m e:\n\u001b[1;32m    <a href='file:///Users/vigneshkkar/Documents/Vigneshkkar/AIML/Advanced%20Python%20Programming/project/.APP/lib/python3.8/site-packages/tensorflow/python/util/traceback_utils.py?line=151'>152</a>\u001b[0m   filtered_tb \u001b[39m=\u001b[39m _process_traceback_frames(e\u001b[39m.\u001b[39m__traceback__)\n",
      "File \u001b[0;32m~/Documents/Vigneshkkar/AIML/Advanced Python Programming/project/.APP/lib/python3.8/site-packages/tensorflow/python/eager/def_function.py:915\u001b[0m, in \u001b[0;36mFunction.__call__\u001b[0;34m(self, *args, **kwds)\u001b[0m\n\u001b[1;32m    <a href='file:///Users/vigneshkkar/Documents/Vigneshkkar/AIML/Advanced%20Python%20Programming/project/.APP/lib/python3.8/site-packages/tensorflow/python/eager/def_function.py?line=911'>912</a>\u001b[0m compiler \u001b[39m=\u001b[39m \u001b[39m\"\u001b[39m\u001b[39mxla\u001b[39m\u001b[39m\"\u001b[39m \u001b[39mif\u001b[39;00m \u001b[39mself\u001b[39m\u001b[39m.\u001b[39m_jit_compile \u001b[39melse\u001b[39;00m \u001b[39m\"\u001b[39m\u001b[39mnonXla\u001b[39m\u001b[39m\"\u001b[39m\n\u001b[1;32m    <a href='file:///Users/vigneshkkar/Documents/Vigneshkkar/AIML/Advanced%20Python%20Programming/project/.APP/lib/python3.8/site-packages/tensorflow/python/eager/def_function.py?line=913'>914</a>\u001b[0m \u001b[39mwith\u001b[39;00m OptionalXlaContext(\u001b[39mself\u001b[39m\u001b[39m.\u001b[39m_jit_compile):\n\u001b[0;32m--> <a href='file:///Users/vigneshkkar/Documents/Vigneshkkar/AIML/Advanced%20Python%20Programming/project/.APP/lib/python3.8/site-packages/tensorflow/python/eager/def_function.py?line=914'>915</a>\u001b[0m   result \u001b[39m=\u001b[39m \u001b[39mself\u001b[39;49m\u001b[39m.\u001b[39;49m_call(\u001b[39m*\u001b[39;49margs, \u001b[39m*\u001b[39;49m\u001b[39m*\u001b[39;49mkwds)\n\u001b[1;32m    <a href='file:///Users/vigneshkkar/Documents/Vigneshkkar/AIML/Advanced%20Python%20Programming/project/.APP/lib/python3.8/site-packages/tensorflow/python/eager/def_function.py?line=916'>917</a>\u001b[0m new_tracing_count \u001b[39m=\u001b[39m \u001b[39mself\u001b[39m\u001b[39m.\u001b[39mexperimental_get_tracing_count()\n\u001b[1;32m    <a href='file:///Users/vigneshkkar/Documents/Vigneshkkar/AIML/Advanced%20Python%20Programming/project/.APP/lib/python3.8/site-packages/tensorflow/python/eager/def_function.py?line=917'>918</a>\u001b[0m without_tracing \u001b[39m=\u001b[39m (tracing_count \u001b[39m==\u001b[39m new_tracing_count)\n",
      "File \u001b[0;32m~/Documents/Vigneshkkar/AIML/Advanced Python Programming/project/.APP/lib/python3.8/site-packages/tensorflow/python/eager/def_function.py:947\u001b[0m, in \u001b[0;36mFunction._call\u001b[0;34m(self, *args, **kwds)\u001b[0m\n\u001b[1;32m    <a href='file:///Users/vigneshkkar/Documents/Vigneshkkar/AIML/Advanced%20Python%20Programming/project/.APP/lib/python3.8/site-packages/tensorflow/python/eager/def_function.py?line=943'>944</a>\u001b[0m   \u001b[39mself\u001b[39m\u001b[39m.\u001b[39m_lock\u001b[39m.\u001b[39mrelease()\n\u001b[1;32m    <a href='file:///Users/vigneshkkar/Documents/Vigneshkkar/AIML/Advanced%20Python%20Programming/project/.APP/lib/python3.8/site-packages/tensorflow/python/eager/def_function.py?line=944'>945</a>\u001b[0m   \u001b[39m# In this case we have created variables on the first call, so we run the\u001b[39;00m\n\u001b[1;32m    <a href='file:///Users/vigneshkkar/Documents/Vigneshkkar/AIML/Advanced%20Python%20Programming/project/.APP/lib/python3.8/site-packages/tensorflow/python/eager/def_function.py?line=945'>946</a>\u001b[0m   \u001b[39m# defunned version which is guaranteed to never create variables.\u001b[39;00m\n\u001b[0;32m--> <a href='file:///Users/vigneshkkar/Documents/Vigneshkkar/AIML/Advanced%20Python%20Programming/project/.APP/lib/python3.8/site-packages/tensorflow/python/eager/def_function.py?line=946'>947</a>\u001b[0m   \u001b[39mreturn\u001b[39;00m \u001b[39mself\u001b[39;49m\u001b[39m.\u001b[39;49m_stateless_fn(\u001b[39m*\u001b[39;49margs, \u001b[39m*\u001b[39;49m\u001b[39m*\u001b[39;49mkwds)  \u001b[39m# pylint: disable=not-callable\u001b[39;00m\n\u001b[1;32m    <a href='file:///Users/vigneshkkar/Documents/Vigneshkkar/AIML/Advanced%20Python%20Programming/project/.APP/lib/python3.8/site-packages/tensorflow/python/eager/def_function.py?line=947'>948</a>\u001b[0m \u001b[39melif\u001b[39;00m \u001b[39mself\u001b[39m\u001b[39m.\u001b[39m_stateful_fn \u001b[39mis\u001b[39;00m \u001b[39mnot\u001b[39;00m \u001b[39mNone\u001b[39;00m:\n\u001b[1;32m    <a href='file:///Users/vigneshkkar/Documents/Vigneshkkar/AIML/Advanced%20Python%20Programming/project/.APP/lib/python3.8/site-packages/tensorflow/python/eager/def_function.py?line=948'>949</a>\u001b[0m   \u001b[39m# Release the lock early so that multiple threads can perform the call\u001b[39;00m\n\u001b[1;32m    <a href='file:///Users/vigneshkkar/Documents/Vigneshkkar/AIML/Advanced%20Python%20Programming/project/.APP/lib/python3.8/site-packages/tensorflow/python/eager/def_function.py?line=949'>950</a>\u001b[0m   \u001b[39m# in parallel.\u001b[39;00m\n\u001b[1;32m    <a href='file:///Users/vigneshkkar/Documents/Vigneshkkar/AIML/Advanced%20Python%20Programming/project/.APP/lib/python3.8/site-packages/tensorflow/python/eager/def_function.py?line=950'>951</a>\u001b[0m   \u001b[39mself\u001b[39m\u001b[39m.\u001b[39m_lock\u001b[39m.\u001b[39mrelease()\n",
      "File \u001b[0;32m~/Documents/Vigneshkkar/AIML/Advanced Python Programming/project/.APP/lib/python3.8/site-packages/tensorflow/python/eager/function.py:2956\u001b[0m, in \u001b[0;36mFunction.__call__\u001b[0;34m(self, *args, **kwargs)\u001b[0m\n\u001b[1;32m   <a href='file:///Users/vigneshkkar/Documents/Vigneshkkar/AIML/Advanced%20Python%20Programming/project/.APP/lib/python3.8/site-packages/tensorflow/python/eager/function.py?line=2952'>2953</a>\u001b[0m \u001b[39mwith\u001b[39;00m \u001b[39mself\u001b[39m\u001b[39m.\u001b[39m_lock:\n\u001b[1;32m   <a href='file:///Users/vigneshkkar/Documents/Vigneshkkar/AIML/Advanced%20Python%20Programming/project/.APP/lib/python3.8/site-packages/tensorflow/python/eager/function.py?line=2953'>2954</a>\u001b[0m   (graph_function,\n\u001b[1;32m   <a href='file:///Users/vigneshkkar/Documents/Vigneshkkar/AIML/Advanced%20Python%20Programming/project/.APP/lib/python3.8/site-packages/tensorflow/python/eager/function.py?line=2954'>2955</a>\u001b[0m    filtered_flat_args) \u001b[39m=\u001b[39m \u001b[39mself\u001b[39m\u001b[39m.\u001b[39m_maybe_define_function(args, kwargs)\n\u001b[0;32m-> <a href='file:///Users/vigneshkkar/Documents/Vigneshkkar/AIML/Advanced%20Python%20Programming/project/.APP/lib/python3.8/site-packages/tensorflow/python/eager/function.py?line=2955'>2956</a>\u001b[0m \u001b[39mreturn\u001b[39;00m graph_function\u001b[39m.\u001b[39;49m_call_flat(\n\u001b[1;32m   <a href='file:///Users/vigneshkkar/Documents/Vigneshkkar/AIML/Advanced%20Python%20Programming/project/.APP/lib/python3.8/site-packages/tensorflow/python/eager/function.py?line=2956'>2957</a>\u001b[0m     filtered_flat_args, captured_inputs\u001b[39m=\u001b[39;49mgraph_function\u001b[39m.\u001b[39;49mcaptured_inputs)\n",
      "File \u001b[0;32m~/Documents/Vigneshkkar/AIML/Advanced Python Programming/project/.APP/lib/python3.8/site-packages/tensorflow/python/eager/function.py:1853\u001b[0m, in \u001b[0;36mConcreteFunction._call_flat\u001b[0;34m(self, args, captured_inputs, cancellation_manager)\u001b[0m\n\u001b[1;32m   <a href='file:///Users/vigneshkkar/Documents/Vigneshkkar/AIML/Advanced%20Python%20Programming/project/.APP/lib/python3.8/site-packages/tensorflow/python/eager/function.py?line=1848'>1849</a>\u001b[0m possible_gradient_type \u001b[39m=\u001b[39m gradients_util\u001b[39m.\u001b[39mPossibleTapeGradientTypes(args)\n\u001b[1;32m   <a href='file:///Users/vigneshkkar/Documents/Vigneshkkar/AIML/Advanced%20Python%20Programming/project/.APP/lib/python3.8/site-packages/tensorflow/python/eager/function.py?line=1849'>1850</a>\u001b[0m \u001b[39mif\u001b[39;00m (possible_gradient_type \u001b[39m==\u001b[39m gradients_util\u001b[39m.\u001b[39mPOSSIBLE_GRADIENT_TYPES_NONE\n\u001b[1;32m   <a href='file:///Users/vigneshkkar/Documents/Vigneshkkar/AIML/Advanced%20Python%20Programming/project/.APP/lib/python3.8/site-packages/tensorflow/python/eager/function.py?line=1850'>1851</a>\u001b[0m     \u001b[39mand\u001b[39;00m executing_eagerly):\n\u001b[1;32m   <a href='file:///Users/vigneshkkar/Documents/Vigneshkkar/AIML/Advanced%20Python%20Programming/project/.APP/lib/python3.8/site-packages/tensorflow/python/eager/function.py?line=1851'>1852</a>\u001b[0m   \u001b[39m# No tape is watching; skip to running the function.\u001b[39;00m\n\u001b[0;32m-> <a href='file:///Users/vigneshkkar/Documents/Vigneshkkar/AIML/Advanced%20Python%20Programming/project/.APP/lib/python3.8/site-packages/tensorflow/python/eager/function.py?line=1852'>1853</a>\u001b[0m   \u001b[39mreturn\u001b[39;00m \u001b[39mself\u001b[39m\u001b[39m.\u001b[39m_build_call_outputs(\u001b[39mself\u001b[39;49m\u001b[39m.\u001b[39;49m_inference_function\u001b[39m.\u001b[39;49mcall(\n\u001b[1;32m   <a href='file:///Users/vigneshkkar/Documents/Vigneshkkar/AIML/Advanced%20Python%20Programming/project/.APP/lib/python3.8/site-packages/tensorflow/python/eager/function.py?line=1853'>1854</a>\u001b[0m       ctx, args, cancellation_manager\u001b[39m=\u001b[39;49mcancellation_manager))\n\u001b[1;32m   <a href='file:///Users/vigneshkkar/Documents/Vigneshkkar/AIML/Advanced%20Python%20Programming/project/.APP/lib/python3.8/site-packages/tensorflow/python/eager/function.py?line=1854'>1855</a>\u001b[0m forward_backward \u001b[39m=\u001b[39m \u001b[39mself\u001b[39m\u001b[39m.\u001b[39m_select_forward_and_backward_functions(\n\u001b[1;32m   <a href='file:///Users/vigneshkkar/Documents/Vigneshkkar/AIML/Advanced%20Python%20Programming/project/.APP/lib/python3.8/site-packages/tensorflow/python/eager/function.py?line=1855'>1856</a>\u001b[0m     args,\n\u001b[1;32m   <a href='file:///Users/vigneshkkar/Documents/Vigneshkkar/AIML/Advanced%20Python%20Programming/project/.APP/lib/python3.8/site-packages/tensorflow/python/eager/function.py?line=1856'>1857</a>\u001b[0m     possible_gradient_type,\n\u001b[1;32m   <a href='file:///Users/vigneshkkar/Documents/Vigneshkkar/AIML/Advanced%20Python%20Programming/project/.APP/lib/python3.8/site-packages/tensorflow/python/eager/function.py?line=1857'>1858</a>\u001b[0m     executing_eagerly)\n\u001b[1;32m   <a href='file:///Users/vigneshkkar/Documents/Vigneshkkar/AIML/Advanced%20Python%20Programming/project/.APP/lib/python3.8/site-packages/tensorflow/python/eager/function.py?line=1858'>1859</a>\u001b[0m forward_function, args_with_tangents \u001b[39m=\u001b[39m forward_backward\u001b[39m.\u001b[39mforward()\n",
      "File \u001b[0;32m~/Documents/Vigneshkkar/AIML/Advanced Python Programming/project/.APP/lib/python3.8/site-packages/tensorflow/python/eager/function.py:499\u001b[0m, in \u001b[0;36m_EagerDefinedFunction.call\u001b[0;34m(self, ctx, args, cancellation_manager)\u001b[0m\n\u001b[1;32m    <a href='file:///Users/vigneshkkar/Documents/Vigneshkkar/AIML/Advanced%20Python%20Programming/project/.APP/lib/python3.8/site-packages/tensorflow/python/eager/function.py?line=496'>497</a>\u001b[0m \u001b[39mwith\u001b[39;00m _InterpolateFunctionError(\u001b[39mself\u001b[39m):\n\u001b[1;32m    <a href='file:///Users/vigneshkkar/Documents/Vigneshkkar/AIML/Advanced%20Python%20Programming/project/.APP/lib/python3.8/site-packages/tensorflow/python/eager/function.py?line=497'>498</a>\u001b[0m   \u001b[39mif\u001b[39;00m cancellation_manager \u001b[39mis\u001b[39;00m \u001b[39mNone\u001b[39;00m:\n\u001b[0;32m--> <a href='file:///Users/vigneshkkar/Documents/Vigneshkkar/AIML/Advanced%20Python%20Programming/project/.APP/lib/python3.8/site-packages/tensorflow/python/eager/function.py?line=498'>499</a>\u001b[0m     outputs \u001b[39m=\u001b[39m execute\u001b[39m.\u001b[39;49mexecute(\n\u001b[1;32m    <a href='file:///Users/vigneshkkar/Documents/Vigneshkkar/AIML/Advanced%20Python%20Programming/project/.APP/lib/python3.8/site-packages/tensorflow/python/eager/function.py?line=499'>500</a>\u001b[0m         \u001b[39mstr\u001b[39;49m(\u001b[39mself\u001b[39;49m\u001b[39m.\u001b[39;49msignature\u001b[39m.\u001b[39;49mname),\n\u001b[1;32m    <a href='file:///Users/vigneshkkar/Documents/Vigneshkkar/AIML/Advanced%20Python%20Programming/project/.APP/lib/python3.8/site-packages/tensorflow/python/eager/function.py?line=500'>501</a>\u001b[0m         num_outputs\u001b[39m=\u001b[39;49m\u001b[39mself\u001b[39;49m\u001b[39m.\u001b[39;49m_num_outputs,\n\u001b[1;32m    <a href='file:///Users/vigneshkkar/Documents/Vigneshkkar/AIML/Advanced%20Python%20Programming/project/.APP/lib/python3.8/site-packages/tensorflow/python/eager/function.py?line=501'>502</a>\u001b[0m         inputs\u001b[39m=\u001b[39;49margs,\n\u001b[1;32m    <a href='file:///Users/vigneshkkar/Documents/Vigneshkkar/AIML/Advanced%20Python%20Programming/project/.APP/lib/python3.8/site-packages/tensorflow/python/eager/function.py?line=502'>503</a>\u001b[0m         attrs\u001b[39m=\u001b[39;49mattrs,\n\u001b[1;32m    <a href='file:///Users/vigneshkkar/Documents/Vigneshkkar/AIML/Advanced%20Python%20Programming/project/.APP/lib/python3.8/site-packages/tensorflow/python/eager/function.py?line=503'>504</a>\u001b[0m         ctx\u001b[39m=\u001b[39;49mctx)\n\u001b[1;32m    <a href='file:///Users/vigneshkkar/Documents/Vigneshkkar/AIML/Advanced%20Python%20Programming/project/.APP/lib/python3.8/site-packages/tensorflow/python/eager/function.py?line=504'>505</a>\u001b[0m   \u001b[39melse\u001b[39;00m:\n\u001b[1;32m    <a href='file:///Users/vigneshkkar/Documents/Vigneshkkar/AIML/Advanced%20Python%20Programming/project/.APP/lib/python3.8/site-packages/tensorflow/python/eager/function.py?line=505'>506</a>\u001b[0m     outputs \u001b[39m=\u001b[39m execute\u001b[39m.\u001b[39mexecute_with_cancellation(\n\u001b[1;32m    <a href='file:///Users/vigneshkkar/Documents/Vigneshkkar/AIML/Advanced%20Python%20Programming/project/.APP/lib/python3.8/site-packages/tensorflow/python/eager/function.py?line=506'>507</a>\u001b[0m         \u001b[39mstr\u001b[39m(\u001b[39mself\u001b[39m\u001b[39m.\u001b[39msignature\u001b[39m.\u001b[39mname),\n\u001b[1;32m    <a href='file:///Users/vigneshkkar/Documents/Vigneshkkar/AIML/Advanced%20Python%20Programming/project/.APP/lib/python3.8/site-packages/tensorflow/python/eager/function.py?line=507'>508</a>\u001b[0m         num_outputs\u001b[39m=\u001b[39m\u001b[39mself\u001b[39m\u001b[39m.\u001b[39m_num_outputs,\n\u001b[0;32m   (...)\u001b[0m\n\u001b[1;32m    <a href='file:///Users/vigneshkkar/Documents/Vigneshkkar/AIML/Advanced%20Python%20Programming/project/.APP/lib/python3.8/site-packages/tensorflow/python/eager/function.py?line=510'>511</a>\u001b[0m         ctx\u001b[39m=\u001b[39mctx,\n\u001b[1;32m    <a href='file:///Users/vigneshkkar/Documents/Vigneshkkar/AIML/Advanced%20Python%20Programming/project/.APP/lib/python3.8/site-packages/tensorflow/python/eager/function.py?line=511'>512</a>\u001b[0m         cancellation_manager\u001b[39m=\u001b[39mcancellation_manager)\n",
      "File \u001b[0;32m~/Documents/Vigneshkkar/AIML/Advanced Python Programming/project/.APP/lib/python3.8/site-packages/tensorflow/python/eager/execute.py:54\u001b[0m, in \u001b[0;36mquick_execute\u001b[0;34m(op_name, num_outputs, inputs, attrs, ctx, name)\u001b[0m\n\u001b[1;32m     <a href='file:///Users/vigneshkkar/Documents/Vigneshkkar/AIML/Advanced%20Python%20Programming/project/.APP/lib/python3.8/site-packages/tensorflow/python/eager/execute.py?line=51'>52</a>\u001b[0m \u001b[39mtry\u001b[39;00m:\n\u001b[1;32m     <a href='file:///Users/vigneshkkar/Documents/Vigneshkkar/AIML/Advanced%20Python%20Programming/project/.APP/lib/python3.8/site-packages/tensorflow/python/eager/execute.py?line=52'>53</a>\u001b[0m   ctx\u001b[39m.\u001b[39mensure_initialized()\n\u001b[0;32m---> <a href='file:///Users/vigneshkkar/Documents/Vigneshkkar/AIML/Advanced%20Python%20Programming/project/.APP/lib/python3.8/site-packages/tensorflow/python/eager/execute.py?line=53'>54</a>\u001b[0m   tensors \u001b[39m=\u001b[39m pywrap_tfe\u001b[39m.\u001b[39;49mTFE_Py_Execute(ctx\u001b[39m.\u001b[39;49m_handle, device_name, op_name,\n\u001b[1;32m     <a href='file:///Users/vigneshkkar/Documents/Vigneshkkar/AIML/Advanced%20Python%20Programming/project/.APP/lib/python3.8/site-packages/tensorflow/python/eager/execute.py?line=54'>55</a>\u001b[0m                                       inputs, attrs, num_outputs)\n\u001b[1;32m     <a href='file:///Users/vigneshkkar/Documents/Vigneshkkar/AIML/Advanced%20Python%20Programming/project/.APP/lib/python3.8/site-packages/tensorflow/python/eager/execute.py?line=55'>56</a>\u001b[0m \u001b[39mexcept\u001b[39;00m core\u001b[39m.\u001b[39m_NotOkStatusException \u001b[39mas\u001b[39;00m e:\n\u001b[1;32m     <a href='file:///Users/vigneshkkar/Documents/Vigneshkkar/AIML/Advanced%20Python%20Programming/project/.APP/lib/python3.8/site-packages/tensorflow/python/eager/execute.py?line=56'>57</a>\u001b[0m   \u001b[39mif\u001b[39;00m name \u001b[39mis\u001b[39;00m \u001b[39mnot\u001b[39;00m \u001b[39mNone\u001b[39;00m:\n",
      "\u001b[0;31mKeyboardInterrupt\u001b[0m: "
     ]
    }
   ],
   "source": [
    "log_dir = os.path.join('Logs')\n",
    "tb_callback = TensorBoard(log_dir=log_dir)\n",
    "\n",
    "model.fit(pad_X_train, Y_train, epochs=200, callbacks=[tb_callback])\n"
   ]
  },
  {
   "cell_type": "code",
   "execution_count": 34,
   "metadata": {},
   "outputs": [
    {
     "name": "stdout",
     "output_type": "stream",
     "text": [
      "50/50 [==============================] - 94s 2s/step - loss: 1.3827 - categorical_accuracy: 0.6444\n",
      "Test set\n",
      "  Loss: 1.383\n",
      "  Accuracy: 0.644\n"
     ]
    }
   ],
   "source": [
    "from keras.preprocessing.sequence import pad_sequences\n",
    "accr = model.evaluate(pad_X_test,Y_test)\n",
    "print('Test set\\n  Loss: {:0.3f}\\n  Accuracy: {:0.3f}'.format(accr[0],accr[1]))"
   ]
  },
  {
   "cell_type": "code",
   "execution_count": 36,
   "metadata": {},
   "outputs": [],
   "source": [
    "from sklearn.metrics import multilabel_confusion_matrix, accuracy_score\n",
    "yhat = model.predict(pad_X_test)\n",
    "ytrue = np.argmax(Y_test, axis=1).tolist()\n",
    "yhat = np.argmax(yhat, axis=1).tolist()\n",
    "cf = multilabel_confusion_matrix(ytrue, yhat)"
   ]
  },
  {
   "cell_type": "code",
   "execution_count": null,
   "metadata": {},
   "outputs": [],
   "source": [
    "import seaborn as sns;\n",
    "group_names = ['True Neg','False Pos','False Neg','True Pos']\n",
    "\n",
    "group_counts = [\"{0:0.0f}\".format(value) for value in\n",
    "                cf[0].flatten()]\n",
    "group_percentages = [\"{0:.2%}\".format(value) for value in\n",
    "                     cf[0].flatten()/np.sum(cf[0])]\n",
    "labels = [f\"{v1}\\n{v2}\\n{v3}\" for v1, v2, v3 in\n",
    "          zip(group_names,group_counts,group_percentages)]\n",
    "labels = np.asarray(labels).reshape(2,2)\n",
    "\n",
    "ax = sns.heatmap(cf[0]/np.sum(cf[0]), annot=labels, fmt='')\n",
    "ax.set_title('Confusion Matrix for \\n Movie Classification')\n",
    "plt.xlabel('Predicted')\n",
    "\n",
    "plt.ylabel('Actual')\n",
    "\n",
    "plt.grid(False)"
   ]
  },
  {
   "cell_type": "code",
   "execution_count": 37,
   "metadata": {},
   "outputs": [],
   "source": [
    "model.save('MovieClassify.h5')"
   ]
  },
  {
   "cell_type": "code",
   "execution_count": 38,
   "metadata": {},
   "outputs": [],
   "source": [
    "import pickle\n",
    "with open(\"tokenizer.pkl\", 'wb') as f:\n",
    "    pickle.dump(tokenizer, f)"
   ]
  },
  {
   "cell_type": "code",
   "execution_count": null,
   "metadata": {},
   "outputs": [],
   "source": []
  }
 ],
 "metadata": {
  "interpreter": {
   "hash": "5788f1503b0465350ce910c85bd58e96395fe4ed19232c5c5c28876de13dfd4a"
  },
  "kernelspec": {
   "display_name": "Python 3.8.8 ('.APP': venv)",
   "language": "python",
   "name": "python3"
  },
  "language_info": {
   "codemirror_mode": {
    "name": "ipython",
    "version": 3
   },
   "file_extension": ".py",
   "mimetype": "text/x-python",
   "name": "python",
   "nbconvert_exporter": "python",
   "pygments_lexer": "ipython3",
   "version": "3.8.8"
  },
  "orig_nbformat": 4
 },
 "nbformat": 4,
 "nbformat_minor": 2
}
